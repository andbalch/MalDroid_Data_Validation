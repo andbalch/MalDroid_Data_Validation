{
 "metadata": {
  "language_info": {
   "codemirror_mode": {
    "name": "ipython",
    "version": 3
   },
   "file_extension": ".py",
   "mimetype": "text/x-python",
   "name": "python",
   "nbconvert_exporter": "python",
   "pygments_lexer": "ipython3",
   "version": "3.7.7-final"
  },
  "orig_nbformat": 2,
  "kernelspec": {
   "name": "python3",
   "display_name": "Python 3.7.7 64-bit ('test_tar_json_parse': conda)",
   "metadata": {
    "interpreter": {
     "hash": "8a460167d8aa885cb47d5964c71ac3986484241d23a3d8e5e10c68c298a08e19"
    }
   }
  }
 },
 "nbformat": 4,
 "nbformat_minor": 2,
 "cells": [
  {
   "source": [
    "# Data Exploration JSON Parser\n",
    "This is a modified version of a notebook used to explore initial test data from the MalDroid dataset. This version crawls through random samples from different malware classes, allowing us to note and account for any discrepancies.\n",
    "## Objectives\n",
    "1. Make a dictionary with classes as keys and a list of file paths to the json files\n",
    "2. Define a function to log the frequency of json fields in static data to a csv for each class\n",
    "3. Repeat Objective 2 for the frequency of behavior types in dynamic data"
   ],
   "cell_type": "markdown",
   "metadata": {}
  },
  {
   "cell_type": "code",
   "execution_count": 1,
   "metadata": {
    "tags": []
   },
   "outputs": [],
   "source": [
    "import pandas as pd\n",
    "import json\n",
    "import ast\n",
    "from flatten_json import flatten\n",
    "from pandas.io.json import json_normalize\n",
    "import os\n",
    "import numpy as np"
   ]
  },
  {
   "source": [
    "# Objective 1"
   ],
   "cell_type": "markdown",
   "metadata": {}
  },
  {
   "cell_type": "code",
   "execution_count": 2,
   "metadata": {
    "tags": []
   },
   "outputs": [],
   "source": [
    "class_folders = [\"adware\", \"banking\", \"benign_comp\", \"riskware\", \"sms\"]\n",
    "path_suffix = \"sample_for_analysis.apk\\\\sample_for_analysis.apk.json\"\n",
    "ref_dict = {\n",
    "    \"adware\": [],\n",
    "    \"banking\": [],\n",
    "    \"benign_comp\": [],\n",
    "    \"riskware\": [],\n",
    "    \"sms\": []\n",
    "}\n",
    "\n",
    "for base_dir in class_folders:\n",
    "    path_list = ref_dict[base_dir]\n",
    "    for sample_folder in os.listdir(base_dir):\n",
    "        sample_dir = os.path.join(base_dir, sample_folder)\n",
    "        json_path = os.path.join(sample_dir, path_suffix)\n",
    "        path_list.append(json_path)\n",
    "    ref_dict[base_dir] = path_list"
   ]
  },
  {
   "source": [
    "# Objective 2\n",
    "To make things a bit easier, we're going to first make a list of all possible static features and then go back over the JSON files to log frequency. This way we don't have to worry about iterativly adding to a DataFrame."
   ],
   "cell_type": "markdown",
   "metadata": {}
  },
  {
   "cell_type": "code",
   "execution_count": 6,
   "metadata": {
    "tags": []
   },
   "outputs": [
    {
     "output_type": "stream",
     "name": "stdout",
     "text": [
      "Error loading json from path: benign_comp\\60777C42F710E9774C0F057D91239E34A86A63943EEEFA569FBD0A6DB3131AC4.copperdroid\\sample_for_analysis.apk\\sample_for_analysis.apk.json\n",
      "Error loading json from path: benign_comp\\84D2D583E7AA3D69D9641B493C7C1193D296D177E0D1E267CE043942B913CDD3.copperdroid\\sample_for_analysis.apk\\sample_for_analysis.apk.json\n",
      "Error loading json from path: riskware\\sample_for_analysis.apk_0\\sample_for_analysis.apk\\sample_for_analysis.apk.json\n",
      "Error loading json from path: riskware\\sample_for_analysis.apk_1\\sample_for_analysis.apk\\sample_for_analysis.apk.json\n",
      "Error loading json from path: riskware\\sample_for_analysis.apk_2\\sample_for_analysis.apk\\sample_for_analysis.apk.json\n",
      "Error loading json from path: riskware\\sample_for_analysis.apk_3\\sample_for_analysis.apk\\sample_for_analysis.apk.json\n",
      "Error loading json from path: benign_comp\\60777C42F710E9774C0F057D91239E34A86A63943EEEFA569FBD0A6DB3131AC4.copperdroid\\sample_for_analysis.apk\\sample_for_analysis.apk.json\n",
      "Error loading json from path: benign_comp\\84D2D583E7AA3D69D9641B493C7C1193D296D177E0D1E267CE043942B913CDD3.copperdroid\\sample_for_analysis.apk\\sample_for_analysis.apk.json\n",
      "Error loading json from path: riskware\\sample_for_analysis.apk_0\\sample_for_analysis.apk\\sample_for_analysis.apk.json\n",
      "Error loading json from path: riskware\\sample_for_analysis.apk_1\\sample_for_analysis.apk\\sample_for_analysis.apk.json\n",
      "Error loading json from path: riskware\\sample_for_analysis.apk_2\\sample_for_analysis.apk\\sample_for_analysis.apk.json\n",
      "Error loading json from path: riskware\\sample_for_analysis.apk_3\\sample_for_analysis.apk\\sample_for_analysis.apk.json\n"
     ]
    },
    {
     "output_type": "execute_result",
     "data": {
      "text/plain": [
       "   num_intent_actions  intent_actions  num_permissions  intent_consts  \\\n",
       "0                11.0            11.0             11.0           11.0   \n",
       "1                16.0            16.0             16.0           15.0   \n",
       "2                11.0            11.0             11.0           11.0   \n",
       "3                14.0            14.0             14.0           10.0   \n",
       "4                33.0            33.0             33.0           27.0   \n",
       "\n",
       "   num_intent_const_android_intent  \\\n",
       "0                             11.0   \n",
       "1                             15.0   \n",
       "2                             11.0   \n",
       "3                             10.0   \n",
       "4                             27.0   \n",
       "\n",
       "   used_permissions: android.permission.ACCESS_FINE_LOCATION  \\\n",
       "0                                               10.0           \n",
       "1                                                6.0           \n",
       "2                                               10.0           \n",
       "3                                                5.0           \n",
       "4                                                0.0           \n",
       "\n",
       "   used_permissions: android.permission.VIBRATE  \\\n",
       "0                                          10.0   \n",
       "1                                           7.0   \n",
       "2                                           9.0   \n",
       "3                                           6.0   \n",
       "4                                          19.0   \n",
       "\n",
       "   used_permissions: android.permission.INTERNET  \\\n",
       "0                                           11.0   \n",
       "1                                           12.0   \n",
       "2                                           10.0   \n",
       "3                                            9.0   \n",
       "4                                            9.0   \n",
       "\n",
       "   used_permissions: android.permission.SET_WALLPAPER  \\\n",
       "0                                                1.0    \n",
       "1                                                0.0    \n",
       "2                                                0.0    \n",
       "3                                                0.0    \n",
       "4                                                0.0    \n",
       "\n",
       "   used_permissions: android.permission.ACCESS_WIFI_STATE  ...  \\\n",
       "0                                               10.0       ...   \n",
       "1                                                2.0       ...   \n",
       "2                                                2.0       ...   \n",
       "3                                                7.0       ...   \n",
       "4                                                1.0       ...   \n",
       "\n",
       "   incognito.method_tags: GRAPHICS  incognito.method_tags: WEBKIT  file: C  \\\n",
       "0                              0.0                            0.0      0.0   \n",
       "1                              0.0                            0.0      0.0   \n",
       "2                              0.0                            0.0      0.0   \n",
       "3                              1.0                            1.0      1.0   \n",
       "4                              0.0                            0.0      0.0   \n",
       "\n",
       "   file: raw  file: TTComp  incognito.method_tags: PROVIDER  \\\n",
       "0        0.0           0.0                              0.0   \n",
       "1        0.0           0.0                              0.0   \n",
       "2        0.0           0.0                              0.0   \n",
       "3        1.0           1.0                              1.0   \n",
       "4        0.0           0.0                              0.0   \n",
       "\n",
       "   incognito.num_intent_action_android_net  file: Apple  file: PE32  \\\n",
       "0                                      0.0          0.0         0.0   \n",
       "1                                      0.0          0.0         0.0   \n",
       "2                                      0.0          0.0         0.0   \n",
       "3                                      1.0          0.0         0.0   \n",
       "4                                      0.0          1.0         3.0   \n",
       "\n",
       "         class  \n",
       "0       adware  \n",
       "1      banking  \n",
       "2  benign_comp  \n",
       "3     riskware  \n",
       "4          sms  \n",
       "\n",
       "[5 rows x 281 columns]"
      ],
      "text/html": "<div>\n<style scoped>\n    .dataframe tbody tr th:only-of-type {\n        vertical-align: middle;\n    }\n\n    .dataframe tbody tr th {\n        vertical-align: top;\n    }\n\n    .dataframe thead th {\n        text-align: right;\n    }\n</style>\n<table border=\"1\" class=\"dataframe\">\n  <thead>\n    <tr style=\"text-align: right;\">\n      <th></th>\n      <th>num_intent_actions</th>\n      <th>intent_actions</th>\n      <th>num_permissions</th>\n      <th>intent_consts</th>\n      <th>num_intent_const_android_intent</th>\n      <th>used_permissions: android.permission.ACCESS_FINE_LOCATION</th>\n      <th>used_permissions: android.permission.VIBRATE</th>\n      <th>used_permissions: android.permission.INTERNET</th>\n      <th>used_permissions: android.permission.SET_WALLPAPER</th>\n      <th>used_permissions: android.permission.ACCESS_WIFI_STATE</th>\n      <th>...</th>\n      <th>incognito.method_tags: GRAPHICS</th>\n      <th>incognito.method_tags: WEBKIT</th>\n      <th>file: C</th>\n      <th>file: raw</th>\n      <th>file: TTComp</th>\n      <th>incognito.method_tags: PROVIDER</th>\n      <th>incognito.num_intent_action_android_net</th>\n      <th>file: Apple</th>\n      <th>file: PE32</th>\n      <th>class</th>\n    </tr>\n  </thead>\n  <tbody>\n    <tr>\n      <th>0</th>\n      <td>11.0</td>\n      <td>11.0</td>\n      <td>11.0</td>\n      <td>11.0</td>\n      <td>11.0</td>\n      <td>10.0</td>\n      <td>10.0</td>\n      <td>11.0</td>\n      <td>1.0</td>\n      <td>10.0</td>\n      <td>...</td>\n      <td>0.0</td>\n      <td>0.0</td>\n      <td>0.0</td>\n      <td>0.0</td>\n      <td>0.0</td>\n      <td>0.0</td>\n      <td>0.0</td>\n      <td>0.0</td>\n      <td>0.0</td>\n      <td>adware</td>\n    </tr>\n    <tr>\n      <th>1</th>\n      <td>16.0</td>\n      <td>16.0</td>\n      <td>16.0</td>\n      <td>15.0</td>\n      <td>15.0</td>\n      <td>6.0</td>\n      <td>7.0</td>\n      <td>12.0</td>\n      <td>0.0</td>\n      <td>2.0</td>\n      <td>...</td>\n      <td>0.0</td>\n      <td>0.0</td>\n      <td>0.0</td>\n      <td>0.0</td>\n      <td>0.0</td>\n      <td>0.0</td>\n      <td>0.0</td>\n      <td>0.0</td>\n      <td>0.0</td>\n      <td>banking</td>\n    </tr>\n    <tr>\n      <th>2</th>\n      <td>11.0</td>\n      <td>11.0</td>\n      <td>11.0</td>\n      <td>11.0</td>\n      <td>11.0</td>\n      <td>10.0</td>\n      <td>9.0</td>\n      <td>10.0</td>\n      <td>0.0</td>\n      <td>2.0</td>\n      <td>...</td>\n      <td>0.0</td>\n      <td>0.0</td>\n      <td>0.0</td>\n      <td>0.0</td>\n      <td>0.0</td>\n      <td>0.0</td>\n      <td>0.0</td>\n      <td>0.0</td>\n      <td>0.0</td>\n      <td>benign_comp</td>\n    </tr>\n    <tr>\n      <th>3</th>\n      <td>14.0</td>\n      <td>14.0</td>\n      <td>14.0</td>\n      <td>10.0</td>\n      <td>10.0</td>\n      <td>5.0</td>\n      <td>6.0</td>\n      <td>9.0</td>\n      <td>0.0</td>\n      <td>7.0</td>\n      <td>...</td>\n      <td>1.0</td>\n      <td>1.0</td>\n      <td>1.0</td>\n      <td>1.0</td>\n      <td>1.0</td>\n      <td>1.0</td>\n      <td>1.0</td>\n      <td>0.0</td>\n      <td>0.0</td>\n      <td>riskware</td>\n    </tr>\n    <tr>\n      <th>4</th>\n      <td>33.0</td>\n      <td>33.0</td>\n      <td>33.0</td>\n      <td>27.0</td>\n      <td>27.0</td>\n      <td>0.0</td>\n      <td>19.0</td>\n      <td>9.0</td>\n      <td>0.0</td>\n      <td>1.0</td>\n      <td>...</td>\n      <td>0.0</td>\n      <td>0.0</td>\n      <td>0.0</td>\n      <td>0.0</td>\n      <td>0.0</td>\n      <td>0.0</td>\n      <td>0.0</td>\n      <td>1.0</td>\n      <td>3.0</td>\n      <td>sms</td>\n    </tr>\n  </tbody>\n</table>\n<p>5 rows × 281 columns</p>\n</div>"
     },
     "metadata": {},
     "execution_count": 6
    }
   ],
   "source": [
    "feat_names = []\n",
    "\n",
    "for sample_class in class_folders:\n",
    "    json_paths = ref_dict[sample_class]\n",
    "    for path in json_paths:\n",
    "        with open(path) as open_json:\n",
    "            try:\n",
    "                json_data = json.load(open_json)\n",
    "            except:\n",
    "                print(\"Error loading json from path: \" + path)\n",
    "                continue\n",
    "        static = json_data['behaviors']['static']\n",
    "        for item in static.keys():\n",
    "            if item not in feat_names:\n",
    "                if type(static[item]) is dict:\n",
    "                    #can only parse one subdict\n",
    "                    for subkey in static[item].keys():\n",
    "                        full_key = item + ': ' + subkey\n",
    "                        if full_key not in feat_names:\n",
    "                            feat_names.append(full_key)\n",
    "                else:\n",
    "                    feat_names.append(item)\n",
    "\n",
    "list_iterator = 0\n",
    "freq_matrix = np.zeros((5, len(feat_names)))\n",
    "\n",
    "for sample_class in class_folders:\n",
    "    json_paths = ref_dict[sample_class]\n",
    "    for path in json_paths:\n",
    "        with open(path) as open_json:\n",
    "            try:\n",
    "                json_data = json.load(open_json)\n",
    "            except:\n",
    "                print(\"Error loading json from path: \" + path)\n",
    "                continue\n",
    "        static = json_data['behaviors']['static']\n",
    "        feat_iterator = 0\n",
    "        for feature in feat_names:\n",
    "            for item in static.keys():\n",
    "                if type(static[item]) is dict:\n",
    "                    #can only parse one subdict\n",
    "                    for subkey in static[item].keys():\n",
    "                        full_key = item + ': ' + subkey\n",
    "                        if full_key.lower() == feature.lower():\n",
    "                            freq_matrix[list_iterator, feat_iterator] += 1\n",
    "                elif item.lower() == feature.lower():\n",
    "                        freq_matrix[list_iterator, feat_iterator] += 1\n",
    "            feat_iterator += 1\n",
    "    list_iterator += 1\n",
    "\n",
    "static_feat_freq = pd.DataFrame(freq_matrix, columns = feat_names)\n",
    "static_feat_freq['class'] = class_folders\n",
    "static_feat_freq"
   ]
  },
  {
   "source": [
    "# Objective 3\n",
    "Variances in the structure of objects even within the same class need to be noted and accounted for. Each dictionary contains a list of the possible structures within a class. Attributes are treated as keys in the dictionary, where the values are their corresponding dtypes or sub-Attributes with their own dictionaries.\n",
    "The end result is a JSON object where the primary Attributes are each class type, containing a list of dictionaries of each possible structure within that class.\n",
    "## Issues parsing lists\n",
    "- Encountered issues documenting the contents of lists where where arguments and parameters keys in the binder and syscalls classes contain a list of varied string parameters and JSON\n",
    "- These are of varying sizes and variables, but will not be included in the attribute documentation for brevity and the lack of a reliable/repeatable documentation process\n",
    "- These features could be valuble, so they will need to be dealt with/taken into consideration during feature engineering\n",
    "- ### These values were able to be effectively extracted in the flattening process"
   ],
   "cell_type": "markdown",
   "metadata": {}
  },
  {
   "source": [
    "class_attributes_dict = {}\n",
    "\n",
    "def dictparse(item):\n",
    "    #A bit messy, but seems to be accurate. Had to workaround some strange formatting, long dtypes, and unicode\n",
    "    attribute_dict = {}\n",
    "    for key in item.keys():\n",
    "        attribute = item[key]\n",
    "        # if key == 'blob' and type(attribute) is str:\n",
    "        #     if '{' in attribute:\n",
    "        #         attribute = attribute.replace(\"L,\", \",\")\n",
    "        #         attribute = attribute.replace(\"L}\", \"}\")\n",
    "        #         attribute = attribute.replace(\"u\\'\", \"\\'\")\n",
    "        #         try:\n",
    "        #             attribute = ast.literal_eval(attribute)\n",
    "        #         except:\n",
    "        #             print(item)\n",
    "        if type(attribute) is dict:\n",
    "            attribute_dict[key] = dictparse(attribute)\n",
    "        elif type(attribute) is list:\n",
    "            #WARNING: This does not account for n-dimensional lists\n",
    "            attribute_list = []\n",
    "            for entry in attribute:\n",
    "                if type(entry) is dict:\n",
    "                    to_validate = dictparse(entry)\n",
    "                    if to_validate not in attribute_list:\n",
    "                        attribute_list.append(to_validate)\n",
    "                # else:\n",
    "                #     attribute_list.append(str(type(attribute)))\n",
    "            attribute_dict[key] = attribute_list\n",
    "        else:\n",
    "            attribute_dict[key] = str(type(attribute))\n",
    "    return attribute_dict\n",
    "\n",
    "for class_type in class_dict.keys():\n",
    "    class_attributes_dict[class_type] = []\n",
    "    for item in class_dict[class_type]:\n",
    "        item_dict = dictparse(item)\n",
    "        if item_dict not in class_attributes_dict[class_type]:\n",
    "            class_attributes_dict[class_type].append(item_dict)\n",
    "\n",
    "with open('data_exploration/class_attributes.json', 'w') as write_json:\n",
    "        json.dump(class_attributes_dict, write_json)"
   ],
   "cell_type": "code",
   "metadata": {
    "tags": []
   },
   "execution_count": null,
   "outputs": []
  },
  {
   "source": [
    "# Objective 4\n",
    "In order to correctly flatten the json data, subdictionaries in entries that are enclosed by double quotes need to be properly formatted into dictionaries/JSON. This fucntionality will be added to Objective 2 and removed from Objective 3. It is also worth keeping in mind that each entry in the list under the content header will need to be flattened seperately and incrementally added to the dataframe, otherwise every entry will be along the x-axis. Additionally, the different data formats for different classes as displayed in Objective 3 may introduce none/NaN values. These will need to be imputed a some point and may cause issues exporting the dataframes to csv or ingesting them into data visalization software/libraries. Thankfully, imputation will be made easier by the steps taken to document each "
   ],
   "cell_type": "markdown",
   "metadata": {}
  },
  {
   "cell_type": "code",
   "execution_count": null,
   "metadata": {},
   "outputs": [],
   "source": [
    "#sample flattening of a test json into csv\n",
    "# path = file_path_dict['FS PIPE ACCESS']\n",
    "\n",
    "# with open(path) as read:\n",
    "#     json_to_flat = json.load(read)\n",
    "\n",
    "# list1 = json_to_flat['content']\n",
    "# flat = flatten(list1[0])\n",
    "# flat = json_normalize(flat)\n",
    "# flat = pd.DataFrame(flat)\n",
    "\n",
    "# flat1 = flatten(list1[2])\n",
    "# flat1 = json_normalize(flat1)\n",
    "# flat1 = pd.DataFrame(flat1)\n",
    "\n",
    "# pd.concat([flat, flat1], axis=0, ignore_index=True)"
   ]
  },
  {
   "cell_type": "code",
   "execution_count": null,
   "metadata": {},
   "outputs": [],
   "source": [
    "def flatten_and_export (structured_json, key):\n",
    "    content_list = structured_json['content']\n",
    "    first_element = flatten(content_list[0])\n",
    "    first_element = json_normalize(first_element)\n",
    "    dataframe1 = pd.DataFrame(first_element)\n",
    "    del content_list[0]\n",
    "    for data in content_list:\n",
    "        data = flatten(data)\n",
    "        data = json_normalize(data)\n",
    "        dataframe2 = pd.DataFrame(data)\n",
    "        dataframe1 = pd.concat([dataframe1, dataframe2], axis=0, ignore_index=True)\n",
    "    with open('data_exploration/csv_files/' + key + '.csv', 'w') as write_csv:\n",
    "        dataframe1.to_csv(write_csv)\n",
    "\n",
    "for key, value in file_path_dict.items():\n",
    "    with open(value, 'r') as path:\n",
    "        flatten_and_export(json.load(path), key)"
   ]
  },
  {
   "source": [
    "# Objective 5\n",
    "The goal of extensive documentation of the key attributes is to provide semantical context to both those reviewing the data and the model when evaluating it. Ideally, each key will have a semantic definition that will be given additional context by it's associated value and related mother and child keys and values. To start, each key will be given a definition but these may have to be changed due to the context of the same key within a particular class or dict."
   ],
   "cell_type": "markdown",
   "metadata": {}
  },
  {
   "cell_type": "code",
   "execution_count": null,
   "metadata": {},
   "outputs": [],
   "source": [
    "key_refrence = {\n",
    "    \"class\": \"Categorical type of the observed dynmaic behavior\",\n",
    "    \"low\": \"List of low-level features associated with the observed behavior\",\n",
    "    \"sysname\": \"Name of the system object associated with low-level features\",\n",
    "    \"type\": \"Type of low-level process, either system call or binder\",\n",
    "    \"id\": \"ID of low-level behavior features, in order of observation\",\n",
    "    \"parameters\": \"Parameters sent to the system object in the SYSCALL class\",\n",
    "    \"ts\": \"Time-stamp of observed low-level behaviors in miliseconds since January 1, 1970\",\n",
    "    \"sin_port\": \"Service port of the low-level process\",\n",
    "    \"in_addr\": \"IP address of the low-level process\",\n",
    "    \"sin_family\": \"The type of addresses the socket can communicate with\",\n",
    "    \"classType\": \"\", #Unsure, looks to be some sort of categorical feature of an observed behavior\n",
    "    \"operationFlags\": \"\", #Unsure, looks to be some sort of categorical feature of an observed behavior\n",
    "    \"procname\": \"Name of the high-level process associated with the observed behavior\",\n",
    "    \"blob\": \"SQL BLOB object of a column value of a row of a database table storing data associated with the low-level behavior\",\n",
    "    \"flags\": \"\", #Unsure, looks to be some sort of categorical feature of the blob object\n",
    "    \"mode\": \"\", #Unsure, looks to be some sort of categorical feature of the blob object\n",
    "    \"filename\": \"Local file path or socket of the blob object\",\n",
    "    \"xref\": \"The id of the parent/primary low-level feature in the same observed behavior\",\n",
    "    \"tid\": \"Tread identifier of the schedulable object in the kernel\",\n",
    "    \"size\": \"Size in bytes of the blob object\",\n",
    "    \"devicename\": \"\", #Unsure, found only in fs acces(c,w) and device_access. Seems to be no different than filename in former whereas in latter is used to address /dev/binder, /dev/ashmem, /proc/meminfo and /dev/urandom but still seems to be no different than filename\n",
    "    \"pid\": \"Process identifier of the group of schedulable objects that share memory and file descriptors\",\n",
    "    \"socket domain\": \"Data communications endpoint for exchanging data between processes executing on the same host\",\n",
    "    \"socket type\": \"Defines the semantics and properties of communications using that socket\",\n",
    "    \"socket protocol\": \"Protocol on which the socket communicates with other processes\",\n",
    "    \"host\": \"Path or IP address of the network host\",\n",
    "    \"port\": \"Port number the process is exposed on\",\n",
    "    \"returnValue\": \"Value returned by the network call\",\n",
    "    \"subclass\": \"Subclass of the associated behavior class\",\n",
    "    \"read fd\": \"File descriptor to be read\", \n",
    "    \"write fd\": \"File descriptor to be written to\",\n",
    "    \"interfaceGroup\": \"Parent package of the attached binder interface\",\n",
    "    \"interface\": \"Full package name of the attached binder interface\",\n",
    "    \"arguments\": \"List of arguments passed with the binder\"\n",
    "}"
   ]
  }
 ]
}